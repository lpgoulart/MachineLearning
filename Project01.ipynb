{
  "nbformat": 4,
  "nbformat_minor": 0,
  "metadata": {
    "colab": {
      "name": "Project01.ipynb",
      "provenance": [],
      "collapsed_sections": []
    },
    "kernelspec": {
      "name": "python3",
      "display_name": "Python 3"
    }
  },
  "cells": [
    {
      "cell_type": "markdown",
      "metadata": {
        "id": "T2li381UhaZa",
        "colab_type": "text"
      },
      "source": [
        "In this project I will make a machine learning code in python to distiguish a pig from a dog from data like: long hair, short legs and if barf"
      ]
    },
    {
      "cell_type": "code",
      "metadata": {
        "id": "-v9u1GUfhHZg",
        "colab_type": "code",
        "colab": {
          "base_uri": "https://localhost:8080/",
          "height": 34
        },
        "outputId": "568fde93-d7d4-4c82-f824-c58885cb8a61"
      },
      "source": [
        "# features:\n",
        "# long hair\n",
        "# short legs\n",
        "# bark\n",
        "# 1 / 0 \n",
        "\n",
        "pig01 = [0, 1, 0]\n",
        "pig02 = [0, 1, 1]\n",
        "pig03 = [1, 1, 0]\n",
        "\n",
        "dog01 = [0, 1, 1]\n",
        "dog02 = [1, 0, 1]\n",
        "dog03 = [1, 1, 1]\n",
        "\n",
        "# 1 => pig \n",
        "# 0 => dog\n",
        "data = [pig01, pig02, pig03, dog01, dog02, dog03]\n",
        "classes = [1, 1, 1, 0, 0, 0] \n"
      ],
      "execution_count": 5,
      "outputs": [
        {
          "output_type": "stream",
          "text": [
            "[[0, 1, 0], [0, 1, 1], [1, 1, 0], [0, 1, 1], [1, 0, 1], [1, 1, 1]]\n"
          ],
          "name": "stdout"
        }
      ]
    },
    {
      "cell_type": "markdown",
      "metadata": {
        "id": "PsVdQ1zainsl",
        "colab_type": "text"
      },
      "source": [
        "To estimate if data is one or another i will use a libary called:\n",
        "\n",
        "```\n",
        "scikit\n",
        "```\n",
        "We can import it as below\n"
      ]
    },
    {
      "cell_type": "code",
      "metadata": {
        "id": "-WfpyeUbi9E9",
        "colab_type": "code",
        "colab": {
          "base_uri": "https://localhost:8080/",
          "height": 84
        },
        "outputId": "94e23c8d-9f8e-4c50-b59a-4d6ef731fa2a"
      },
      "source": [
        "from sklearn.svm import LinearSVC\n",
        "\n",
        "model = LinearSVC()\n",
        "model.fit(data, classes)\n",
        "\n"
      ],
      "execution_count": 6,
      "outputs": [
        {
          "output_type": "execute_result",
          "data": {
            "text/plain": [
              "LinearSVC(C=1.0, class_weight=None, dual=True, fit_intercept=True,\n",
              "          intercept_scaling=1, loss='squared_hinge', max_iter=1000,\n",
              "          multi_class='ovr', penalty='l2', random_state=None, tol=0.0001,\n",
              "          verbose=0)"
            ]
          },
          "metadata": {
            "tags": []
          },
          "execution_count": 6
        }
      ]
    },
    {
      "cell_type": "code",
      "metadata": {
        "id": "E-APeyTSj4e6",
        "colab_type": "code",
        "colab": {}
      },
      "source": [
        "mistery_animal01 = [1, 1, 1] #dog\n",
        "mistery_animal02 = [1, 1, 0] #pig\n",
        "mistery_animal03 = [0, 1, 1] #pig\n",
        "\n",
        "test = [mistery_animal01, mistery_animal02, mistery_animal03]\n",
        "\n",
        "predictions = model.predict(test)"
      ],
      "execution_count": 0,
      "outputs": []
    },
    {
      "cell_type": "code",
      "metadata": {
        "id": "se0wFvL4lv_y",
        "colab_type": "code",
        "colab": {}
      },
      "source": [
        "test_classes = [0, 1, 1]"
      ],
      "execution_count": 0,
      "outputs": []
    },
    {
      "cell_type": "code",
      "metadata": {
        "id": "1twFf4m_l2c7",
        "colab_type": "code",
        "colab": {
          "base_uri": "https://localhost:8080/",
          "height": 34
        },
        "outputId": "f3fafc2b-ef9d-4153-c2f8-fb88c58e17ec"
      },
      "source": [
        "correct_predictions = (test_classes == predictions).sum()\n",
        "total_cases = len(test)\n",
        "\n",
        "hit_rate = correct_predictions/total_cases\n",
        "\n",
        "print(\"hit rate is: \" , hit_rate*100)"
      ],
      "execution_count": 21,
      "outputs": [
        {
          "output_type": "stream",
          "text": [
            "hit rate is:  66.66666666666666\n"
          ],
          "name": "stdout"
        }
      ]
    },
    {
      "cell_type": "code",
      "metadata": {
        "id": "Uz1NvB64nFJK",
        "colab_type": "code",
        "colab": {
          "base_uri": "https://localhost:8080/",
          "height": 34
        },
        "outputId": "bd881b6c-fa63-45cb-ab3c-2bf27a0a265e"
      },
      "source": [
        "# using scikit method\n",
        "\n",
        "from sklearn.metrics import accuracy_score\n",
        "\n",
        "hit_rate02 = accuracy_score(test_classes, predictions)\n",
        "print (\"hit rate is: \", hit_rate02*100) "
      ],
      "execution_count": 25,
      "outputs": [
        {
          "output_type": "stream",
          "text": [
            "hit rate is:  66.66666666666666\n"
          ],
          "name": "stdout"
        }
      ]
    }
  ]
}